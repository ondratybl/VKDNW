{
 "cells": [
  {
   "metadata": {},
   "cell_type": "markdown",
   "source": "# Toy example",
   "id": "7247a637ed31eb32"
  },
  {
   "metadata": {},
   "cell_type": "code",
   "outputs": [],
   "execution_count": 1,
   "source": [
    "import numpy as np\n",
    "import matplotlib.pyplot as plt\n",
    "import pandas as pd\n",
    "from sklearn.metrics import ndcg_score\n",
    "from scipy.stats import kendalltau\n",
    "\n",
    "acc_mean = 10\n",
    "top = 100\n",
    "\n",
    "# Generate data points within the range 0-1 by filtering\n",
    "data = pd.DataFrame({'val_acc': np.random.exponential(acc_mean, top**2)})\n",
    "data = data.loc[(data['val_acc']<100) & (data['val_acc']>0)]\n",
    "data['random_rank'] = np.random.permutation(len(data)) + 1\n",
    "data['perfect_rank'] = data['val_acc'].rank(ascending=True)\n",
    "data['damaged_rank'] = data['perfect_rank']\n",
    "top_indices = data['damaged_rank'].nlargest(top).index\n",
    "data.loc[top_indices, 'damaged_rank'] = range(top, 0, -1)\n",
    "data.loc[~data.index.isin(top_indices), 'damaged_rank'] += top "
   ],
   "id": "initial_id"
  },
  {
   "metadata": {
    "ExecuteTime": {
     "end_time": "2024-11-06T15:09:21.823345Z",
     "start_time": "2024-11-06T15:09:21.523111Z"
    }
   },
   "cell_type": "code",
   "source": [
    "plt.figure(figsize=(8, 5))\n",
    "plt.hist(data['val_acc'], bins=50, edgecolor=\"black\", density=True)\n",
    "plt.title(\"Validation Accuracy Distribution\")\n",
    "plt.xlabel(\"val_acc\")\n",
    "plt.ylabel(\"Density\")\n",
    "plt.savefig('example_bad_kendall.eps', format='eps')\n",
    "plt.show()\n",
    "plt.close()"
   ],
   "id": "b89e9b678eee5862",
   "outputs": [
    {
     "data": {
      "text/plain": [
       "<Figure size 800x500 with 1 Axes>"
      ],
      "image/png": "[encoded data removed]"
     },
     "metadata": {},
     "output_type": "display_data"
    }
   ],
   "execution_count": 10
  },
  {
   "metadata": {
    "ExecuteTime": {
     "end_time": "2024-11-06T15:03:16.687411Z",
     "start_time": "2024-11-06T15:03:16.618551Z"
    }
   },
   "cell_type": "code",
   "source": [
    "table = None\n",
    "top1, top2, top3 = int(top/2), top, top*2\n",
    "for rank in ['random_rank', 'perfect_rank', 'damaged_rank']:\n",
    "    eval = {\n",
    "        'ranking': [rank],\n",
    "        'kendalltau': [kendalltau(data['val_acc'], data[rank]).statistic],\n",
    "        'kendalltau_pvalue': [kendalltau(data['val_acc'], data[rank]).pvalue],\n",
    "        f'ndcg_top{top1}': [ndcg_score(data['val_acc'].values.reshape(1, -1), data[rank].values.reshape(1, -1), k=top1)],\n",
    "        f'ndcg_top{top2}': [ndcg_score(data['val_acc'].values.reshape(1, -1), data[rank].values.reshape(1, -1), k=top2)],\n",
    "        f'ndcg_top{top3}': [ndcg_score(data['val_acc'].values.reshape(1, -1), data[rank].values.reshape(1, -1), k=top3)],\n",
    "    }\n",
    "    if table is None:\n",
    "        table = pd.DataFrame(eval)\n",
    "    else:\n",
    "        table = pd.concat([table, pd.DataFrame(eval)], ignore_index=True)\n",
    "table"
   ],
   "id": "3e194e742e6b45c0",
   "outputs": [
    {
     "data": {
      "text/plain": [
       "        ranking  kendalltau  kendalltau_pvalue  ndcg_top50  ndcg_top100  \\\n",
       "0   random_rank   -0.003712            0.57775    0.145351     0.150057   \n",
       "1  perfect_rank    1.000000            0.00000    1.000000     1.000000   \n",
       "2  damaged_rank    0.960396            0.00000    0.670379     0.718864   \n",
       "\n",
       "   ndcg_top200  \n",
       "0     0.183933  \n",
       "1     1.000000  \n",
       "2     0.770708  "
      ],
      "text/html": [
       "<div>\n",
       "<style scoped>\n",
       "    .dataframe tbody tr th:only-of-type {\n",
       "        vertical-align: middle;\n",
       "    }\n",
       "\n",
       "    .dataframe tbody tr th {\n",
       "        vertical-align: top;\n",
       "    }\n",
       "\n",
       "    .dataframe thead th {\n",
       "        text-align: right;\n",
       "    }\n",
       "</style>\n",
       "<table border=\"1\" class=\"dataframe\">\n",
       "  <thead>\n",
       "    <tr style=\"text-align: right;\">\n",
       "      <th></th>\n",
       "      <th>ranking</th>\n",
       "      <th>kendalltau</th>\n",
       "      <th>kendalltau_pvalue</th>\n",
       "      <th>ndcg_top50</th>\n",
       "      <th>ndcg_top100</th>\n",
       "      <th>ndcg_top200</th>\n",
       "    </tr>\n",
       "  </thead>\n",
       "  <tbody>\n",
       "    <tr>\n",
       "      <th>0</th>\n",
       "      <td>random_rank</td>\n",
       "      <td>-0.003712</td>\n",
       "      <td>0.57775</td>\n",
       "      <td>0.145351</td>\n",
       "      <td>0.150057</td>\n",
       "      <td>0.183933</td>\n",
       "    </tr>\n",
       "    <tr>\n",
       "      <th>1</th>\n",
       "      <td>perfect_rank</td>\n",
       "      <td>1.000000</td>\n",
       "      <td>0.00000</td>\n",
       "      <td>1.000000</td>\n",
       "      <td>1.000000</td>\n",
       "      <td>1.000000</td>\n",
       "    </tr>\n",
       "    <tr>\n",
       "      <th>2</th>\n",
       "      <td>damaged_rank</td>\n",
       "      <td>0.960396</td>\n",
       "      <td>0.00000</td>\n",
       "      <td>0.670379</td>\n",
       "      <td>0.718864</td>\n",
       "      <td>0.770708</td>\n",
       "    </tr>\n",
       "  </tbody>\n",
       "</table>\n",
       "</div>"
      ]
     },
     "execution_count": 210,
     "metadata": {},
     "output_type": "execute_result"
    }
   ],
   "execution_count": 210
  },
  {
   "metadata": {
    "ExecuteTime": {
     "end_time": "2024-11-06T14:52:56.331217Z",
     "start_time": "2024-11-06T14:52:56.327227Z"
    }
   },
   "cell_type": "code",
   "source": "table = table.T",
   "id": "bf71fb80e436bb9d",
   "outputs": [],
   "execution_count": 207
  },
  {
   "metadata": {
    "ExecuteTime": {
     "end_time": "2024-11-06T14:52:59.214737Z",
     "start_time": "2024-11-06T14:52:59.207072Z"
    }
   },
   "cell_type": "code",
   "source": [
    "table = table.style.format(decimal=',', thousands='.', precision=2)\n",
    "\n",
    "print(table.to_latex())"
   ],
   "id": "62da1107d1da5167",
   "outputs": [
    {
     "name": "stdout",
     "output_type": "stream",
     "text": [
      "\\begin{tabular}{llll}\n",
      " & 0 & 1 & 2 \\\\\n",
      "ranking & random_rank & perfect_rank & damaged_rank \\\\\n",
      "kendalltau & -0,00 & 1,00 & 0,96 \\\\\n",
      "kendalltau_pvalue & 0,58 & 0,00 & 0,00 \\\\\n",
      "ndcg_top50 & 0,15 & 1,00 & 0,67 \\\\\n",
      "ndcg_top100 & 0,15 & 1,00 & 0,72 \\\\\n",
      "ndcg_top200 & 0,18 & 1,00 & 0,77 \\\\\n",
      "\\end{tabular}\n",
      "\n"
     ]
    }
   ],
   "execution_count": 208
  },
  {
   "metadata": {},
   "cell_type": "markdown",
   "source": "# VKDNW and trainable_params correlation",
   "id": "a26ab8336a0c00b7"
  },
  {
   "metadata": {},
   "cell_type": "code",
   "outputs": [],
   "execution_count": null,
   "source": [
    "import wandb\n",
    "api_wandb = wandb.Api()\n",
    "run = pd.DataFrame(api_wandb.run('nazderaze/VKDNW/ss2kwvpp').scan_history())\n",
    "from scipy.stats import kendalltau\n",
    "\n",
    "run['jacov'] = run['jacov'].astype(float)\n",
    "run['trainability'] = run['trainability'].astype(float)\n",
    "run['progressivity'] = run['progressivity'].astype(float)\n",
    "run['expressivity'] = run['expressivity'].astype(float)\n",
    "run.loc[run['jacov'].isnull(), 'jacov'] = run['jacov'].min()\n",
    "run['te_nas'] = run['linear_region'].rank().apply(np.log)+run['ntk'].rank().apply(np.log)\n",
    "run['az_nas'] = run['trainability'].rank().apply(np.log)+run['progressivity'].rank().apply(np.log)+run['expressivity'].rank().apply(np.log)\n",
    "for pred in ['vkdnw_entropy', 'trainability', 'progressivity', 'expressivity', 'az_nas', 'jacov','gradsign', 'zico', 'zen', 'grad_norm', 'naswot', 'synflow', 'snip', 'grasp', 'te_nas']:\n",
    "\n",
    "    run[pred] = run[pred].astype(float)\n",
    "    data_to_plot = [run[pred][run['vkdnw_dim'] == cat] for cat in run['vkdnw_dim'].unique()]\n",
    "    kt = kendalltau(run['vkdnw_dim'], run[pred]).statistic\n",
    "    \n",
    "    plt.figure(figsize=(8, 5))    \n",
    "    plt.boxplot(data_to_plot, labels=run['vkdnw_dim'].unique(), showfliers=False)\n",
    "    if pred == 'vkdnw_entropy':\n",
    "        plt.title(f\"vkdnw by #trainable_layers. (KT) correlation {kt:.2f}\")\n",
    "        plt.xlabel('#trainable_layers')\n",
    "        plt.ylabel('vkdnw')\n",
    "        plt.savefig(f'ImageNet16-120_unfiltered_vkdnw_num_params_boxplot.eps', format='eps')\n",
    "    else:\n",
    "        plt.title(f\"vkdnw by #trainable_layers. (KT) correlation {kt:.2f}\")\n",
    "        plt.xlabel('#trainable_layers')\n",
    "        plt.ylabel(pred)\n",
    "    plt.show()"
   ],
   "id": "9341767c23fe28"
  },
  {
   "metadata": {},
   "cell_type": "markdown",
   "source": "# Tables",
   "id": "90e63da97ba3dc9a"
  },
  {
   "metadata": {
    "ExecuteTime": {
     "end_time": "2024-11-09T20:05:17.226236Z",
     "start_time": "2024-11-09T20:05:17.223667Z"
    }
   },
   "cell_type": "code",
   "source": [
    "import pandas as pd\n",
    "import glob"
   ],
   "id": "8368143b2a84430e",
   "outputs": [],
   "execution_count": 6
  },
  {
   "metadata": {
    "ExecuteTime": {
     "end_time": "2024-11-09T20:08:54.195675Z",
     "start_time": "2024-11-09T20:08:54.192559Z"
    }
   },
   "cell_type": "code",
   "source": [
    "table_struct = [\n",
    "    ('kendall_mean', 'cifar10'),\n",
    "    ('spearman_mean', 'cifar10'),\n",
    "    ('ndcg_mean', 'cifar10'),\n",
    "    ('kendall_mean', 'cifar100'),\n",
    "    ('spearman_mean', 'cifar100'),\n",
    "    ('ndcg_mean', 'cifar100'),\n",
    "    ('kendall_mean', 'ImageNet16-120'),\n",
    "    ('spearman_mean', 'ImageNet16-120'),\n",
    "    ('ndcg_mean', 'ImageNet16-120'),\n",
    "]"
   ],
   "id": "1ee17ac6605d558f",
   "outputs": [],
   "execution_count": 15
  },
  {
   "metadata": {
    "ExecuteTime": {
     "end_time": "2024-11-09T20:08:55.221433Z",
     "start_time": "2024-11-09T20:08:55.197596Z"
    }
   },
   "cell_type": "code",
   "source": [
    "data_all = pd.concat([pd.read_csv(file) for file in glob.glob('NB201/*_log.csv')], ignore_index=True)\n",
    "data_all = data_all.loc[data_all['archs_filtered_']=='filtered', :]\n",
    "data_all = data_all.loc[(data_all['train_size_'].isnull()) | (data_all['train_size_']==1024), :]\n",
    "data_all['train_size_'].unique()\n",
    "table1 = data_all[['pred_name_', 'dataset_', 'kendall_mean', 'spearman_mean', 'ndcg_mean',]].pivot(index='pred_name_', columns=['dataset_'], values=['kendall_mean', 'spearman_mean', 'ndcg_mean',])"
   ],
   "id": "8f2ffba1f34c2d39",
   "outputs": [],
   "execution_count": 16
  },
  {
   "metadata": {
    "ExecuteTime": {
     "end_time": "2024-11-09T20:10:56.648084Z",
     "start_time": "2024-11-09T20:10:56.626256Z"
    }
   },
   "cell_type": "code",
   "source": [
    "table1_formatted = table1.loc[['flops_rank', 'grad_norm_rank', 'grasp_rank', 'snip_rank', 'synflow_rank', 'naswot_rank', 'te_nas_rank', 'zen_rank', 'gradsign_rank', 'zico_rank', 'az_nas_rank', 'vkdnw_rank', 'vkdnw_comb_rank', 'pred_model_graf', 'pred_model_vkdnw', 'pred_model_vkdnw+zs', 'pred_model_vkdnw+zs+graf'], table_struct].applymap(lambda x: f\"{x:.4f}\")\n",
    "\n",
    "table1_formatted.columns = ['_'.join(col) for col in table1_formatted.columns]\n",
    "table1_formatted.index = table1_formatted.index.str.replace('_rank', '', regex=False)\n",
    "table1_formatted.index = table1_formatted.index.str.replace('pred_', '', regex=False)\n",
    "table1_formatted.to_latex()"
   ],
   "id": "7236811a71f4ebba",
   "outputs": [
    {
     "data": {
      "text/plain": [
       "'\\\\begin{tabular}{llllllllll}\\n\\\\toprule\\n & kendall_mean_cifar10 & spearman_mean_cifar10 & ndcg_mean_cifar10 & kendall_mean_cifar100 & spearman_mean_cifar100 & ndcg_mean_cifar100 & kendall_mean_ImageNet16-120 & spearman_mean_ImageNet16-120 & ndcg_mean_ImageNet16-120 \\\\\\\\\\npred_name_ &  &  &  &  &  &  &  &  &  \\\\\\\\\\n\\\\midrule\\nflops & 0.6227 & 0.7991 & 0.9955 & 0.5860 & 0.7634 & 0.9876 & 0.5453 & 0.7178 & 0.9655 \\\\\\\\\\ngrad_norm & 0.3281 & 0.4383 & 0.9887 & 0.3405 & 0.4511 & 0.9723 & 0.3104 & 0.4176 & 0.9220 \\\\\\\\\\ngrasp & 0.3519 & 0.5045 & 0.9876 & 0.3493 & 0.4983 & 0.9693 & 0.3591 & 0.5017 & 0.9204 \\\\\\\\\\nsnip & 0.4308 & 0.5906 & 0.9893 & 0.4399 & 0.5965 & 0.9733 & 0.3893 & 0.5211 & 0.9231 \\\\\\\\\\nsynflow & 0.5608 & 0.7579 & 0.9945 & 0.5533 & 0.7498 & 0.9869 & 0.5311 & 0.7185 & 0.9639 \\\\\\\\\\nnaswot & 0.5708 & 0.7618 & 0.9951 & 0.6070 & 0.7990 & 0.9898 & 0.6052 & 0.7940 & 0.9730 \\\\\\\\\\nte_nas & 0.5362 & 0.7215 & 0.9930 & 0.5372 & 0.7227 & 0.9834 & 0.5226 & 0.7091 & 0.9575 \\\\\\\\\\nzen & 0.1020 & 0.1031 & 0.9694 & 0.0790 & 0.0723 & 0.9196 & 0.0910 & 0.1090 & 0.8670 \\\\\\\\\\ngradsign & -0.4307 & -0.6084 & 0.9386 & -0.5284 & -0.7208 & 0.8489 & -0.4544 & -0.6268 & 0.7557 \\\\\\\\\\nzico & 0.6066 & 0.8017 & 0.9958 & 0.6139 & 0.8090 & 0.9907 & 0.5867 & 0.7788 & 0.9730 \\\\\\\\\\naz_nas & 0.7121 & 0.8925 & 0.9981 & 0.6956 & 0.8798 & 0.9943 & 0.6728 & 0.8587 & 0.9830 \\\\\\\\\\nvkdnw & 0.6135 & 0.8106 & 0.9957 & 0.6236 & 0.8199 & 0.9906 & 0.6158 & 0.8086 & 0.9741 \\\\\\\\\\nvkdnw_comb & 0.7501 & 0.9189 & 0.9982 & 0.7519 & 0.9183 & 0.9954 & 0.7424 & 0.9056 & 0.9862 \\\\\\\\\\nmodel_graf & 0.8192 & 0.9523 & 0.9991 & 0.8085 & 0.9477 & 0.9975 & 0.7965 & 0.9410 & 0.9921 \\\\\\\\\\nmodel_vkdnw & 0.6463 & 0.8304 & 0.9963 & 0.6357 & 0.8208 & 0.9907 & 0.6102 & 0.7976 & 0.9753 \\\\\\\\\\nmodel_vkdnw+zs & 0.8403 & 0.9634 & 0.9995 & 0.8342 & 0.9601 & 0.9982 & 0.8293 & 0.9573 & 0.9945 \\\\\\\\\\nmodel_vkdnw+zs+graf & 0.8588 & 0.9709 & 0.9996 & 0.8475 & 0.9658 & 0.9985 & 0.8414 & 0.9629 & 0.9951 \\\\\\\\\\n\\\\bottomrule\\n\\\\end{tabular}\\n'"
      ]
     },
     "execution_count": 20,
     "metadata": {},
     "output_type": "execute_result"
    }
   ],
   "execution_count": 20
  },
  {
   "metadata": {
    "ExecuteTime": {
     "end_time": "2024-11-09T20:11:39.359957Z",
     "start_time": "2024-11-09T20:11:39.350541Z"
    }
   },
   "cell_type": "code",
   "source": "table1_formatted[['ndcg_mean_cifar10', 'ndcg_mean_cifar100', 'ndcg_mean_ImageNet16-120']]",
   "id": "88d4db06e149e961",
   "outputs": [
    {
     "data": {
      "text/plain": [
       "                    ndcg_mean_cifar10 ndcg_mean_cifar100  \\\n",
       "pred_name_                                                 \n",
       "flops                          0.9955             0.9876   \n",
       "grad_norm                      0.9887             0.9723   \n",
       "grasp                          0.9876             0.9693   \n",
       "snip                           0.9893             0.9733   \n",
       "synflow                        0.9945             0.9869   \n",
       "naswot                         0.9951             0.9898   \n",
       "te_nas                         0.9930             0.9834   \n",
       "zen                            0.9694             0.9196   \n",
       "gradsign                       0.9386             0.8489   \n",
       "zico                           0.9958             0.9907   \n",
       "az_nas                         0.9981             0.9943   \n",
       "vkdnw                          0.9957             0.9906   \n",
       "vkdnw_comb                     0.9982             0.9954   \n",
       "model_graf                     0.9991             0.9975   \n",
       "model_vkdnw                    0.9963             0.9907   \n",
       "model_vkdnw+zs                 0.9995             0.9982   \n",
       "model_vkdnw+zs+graf            0.9996             0.9985   \n",
       "\n",
       "                    ndcg_mean_ImageNet16-120  \n",
       "pred_name_                                    \n",
       "flops                                 0.9655  \n",
       "grad_norm                             0.9220  \n",
       "grasp                                 0.9204  \n",
       "snip                                  0.9231  \n",
       "synflow                               0.9639  \n",
       "naswot                                0.9730  \n",
       "te_nas                                0.9575  \n",
       "zen                                   0.8670  \n",
       "gradsign                              0.7557  \n",
       "zico                                  0.9730  \n",
       "az_nas                                0.9830  \n",
       "vkdnw                                 0.9741  \n",
       "vkdnw_comb                            0.9862  \n",
       "model_graf                            0.9921  \n",
       "model_vkdnw                           0.9753  \n",
       "model_vkdnw+zs                        0.9945  \n",
       "model_vkdnw+zs+graf                   0.9951  "
      ],
      "text/html": [
       "<div>\n",
       "<style scoped>\n",
       "    .dataframe tbody tr th:only-of-type {\n",
       "        vertical-align: middle;\n",
       "    }\n",
       "\n",
       "    .dataframe tbody tr th {\n",
       "        vertical-align: top;\n",
       "    }\n",
       "\n",
       "    .dataframe thead th {\n",
       "        text-align: right;\n",
       "    }\n",
       "</style>\n",
       "<table border=\"1\" class=\"dataframe\">\n",
       "  <thead>\n",
       "    <tr style=\"text-align: right;\">\n",
       "      <th></th>\n",
       "      <th>ndcg_mean_cifar10</th>\n",
       "      <th>ndcg_mean_cifar100</th>\n",
       "      <th>ndcg_mean_ImageNet16-120</th>\n",
       "    </tr>\n",
       "    <tr>\n",
       "      <th>pred_name_</th>\n",
       "      <th></th>\n",
       "      <th></th>\n",
       "      <th></th>\n",
       "    </tr>\n",
       "  </thead>\n",
       "  <tbody>\n",
       "    <tr>\n",
       "      <th>flops</th>\n",
       "      <td>0.9955</td>\n",
       "      <td>0.9876</td>\n",
       "      <td>0.9655</td>\n",
       "    </tr>\n",
       "    <tr>\n",
       "      <th>grad_norm</th>\n",
       "      <td>0.9887</td>\n",
       "      <td>0.9723</td>\n",
       "      <td>0.9220</td>\n",
       "    </tr>\n",
       "    <tr>\n",
       "      <th>grasp</th>\n",
       "      <td>0.9876</td>\n",
       "      <td>0.9693</td>\n",
       "      <td>0.9204</td>\n",
       "    </tr>\n",
       "    <tr>\n",
       "      <th>snip</th>\n",
       "      <td>0.9893</td>\n",
       "      <td>0.9733</td>\n",
       "      <td>0.9231</td>\n",
       "    </tr>\n",
       "    <tr>\n",
       "      <th>synflow</th>\n",
       "      <td>0.9945</td>\n",
       "      <td>0.9869</td>\n",
       "      <td>0.9639</td>\n",
       "    </tr>\n",
       "    <tr>\n",
       "      <th>naswot</th>\n",
       "      <td>0.9951</td>\n",
       "      <td>0.9898</td>\n",
       "      <td>0.9730</td>\n",
       "    </tr>\n",
       "    <tr>\n",
       "      <th>te_nas</th>\n",
       "      <td>0.9930</td>\n",
       "      <td>0.9834</td>\n",
       "      <td>0.9575</td>\n",
       "    </tr>\n",
       "    <tr>\n",
       "      <th>zen</th>\n",
       "      <td>0.9694</td>\n",
       "      <td>0.9196</td>\n",
       "      <td>0.8670</td>\n",
       "    </tr>\n",
       "    <tr>\n",
       "      <th>gradsign</th>\n",
       "      <td>0.9386</td>\n",
       "      <td>0.8489</td>\n",
       "      <td>0.7557</td>\n",
       "    </tr>\n",
       "    <tr>\n",
       "      <th>zico</th>\n",
       "      <td>0.9958</td>\n",
       "      <td>0.9907</td>\n",
       "      <td>0.9730</td>\n",
       "    </tr>\n",
       "    <tr>\n",
       "      <th>az_nas</th>\n",
       "      <td>0.9981</td>\n",
       "      <td>0.9943</td>\n",
       "      <td>0.9830</td>\n",
       "    </tr>\n",
       "    <tr>\n",
       "      <th>vkdnw</th>\n",
       "      <td>0.9957</td>\n",
       "      <td>0.9906</td>\n",
       "      <td>0.9741</td>\n",
       "    </tr>\n",
       "    <tr>\n",
       "      <th>vkdnw_comb</th>\n",
       "      <td>0.9982</td>\n",
       "      <td>0.9954</td>\n",
       "      <td>0.9862</td>\n",
       "    </tr>\n",
       "    <tr>\n",
       "      <th>model_graf</th>\n",
       "      <td>0.9991</td>\n",
       "      <td>0.9975</td>\n",
       "      <td>0.9921</td>\n",
       "    </tr>\n",
       "    <tr>\n",
       "      <th>model_vkdnw</th>\n",
       "      <td>0.9963</td>\n",
       "      <td>0.9907</td>\n",
       "      <td>0.9753</td>\n",
       "    </tr>\n",
       "    <tr>\n",
       "      <th>model_vkdnw+zs</th>\n",
       "      <td>0.9995</td>\n",
       "      <td>0.9982</td>\n",
       "      <td>0.9945</td>\n",
       "    </tr>\n",
       "    <tr>\n",
       "      <th>model_vkdnw+zs+graf</th>\n",
       "      <td>0.9996</td>\n",
       "      <td>0.9985</td>\n",
       "      <td>0.9951</td>\n",
       "    </tr>\n",
       "  </tbody>\n",
       "</table>\n",
       "</div>"
      ]
     },
     "execution_count": 22,
     "metadata": {},
     "output_type": "execute_result"
    }
   ],
   "execution_count": 22
  },
  {
   "metadata": {},
   "cell_type": "code",
   "outputs": [],
   "execution_count": null,
   "source": "",
   "id": "3f2355366d752620"
  }
 ],
 "metadata": {
  "kernelspec": {
   "display_name": "Python 3",
   "language": "python",
   "name": "python3"
  },
  "language_info": {
   "codemirror_mode": {
    "name": "ipython",
    "version": 2
   },
   "file_extension": ".py",
   "mimetype": "text/x-python",
   "name": "python",
   "nbconvert_exporter": "python",
   "pygments_lexer": "ipython2",
   "version": "2.7.6"
  }
 },
 "nbformat": 4,
 "nbformat_minor": 5
}
